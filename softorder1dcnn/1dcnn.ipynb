{
  "cells": [
    {
      "cell_type": "markdown",
      "metadata": {
        "id": "MCwKvD8SMPaM"
      },
      "source": [
        "Not working properly in RStudio or Visual Studio"
      ]
    },
    {
      "cell_type": "markdown",
      "metadata": {
        "id": "VFyZiJX5MPaP"
      },
      "source": [
        "Resort to ipython and plain text editor"
      ]
    },
    {
      "cell_type": "markdown",
      "metadata": {
        "id": "Cha0WW4yMPaP"
      },
      "source": [
        "This notebook is inspired by the [2nd place solution of Mechanisms of Action (MoA)<br>\n",
        "Prediction](https://www.kaggle.com/c/lish-moa/discussion/202256)."
      ]
    },
    {
      "cell_type": "markdown",
      "metadata": {
        "id": "U3dceu4WMPaP"
      },
      "source": [
        "This Python 3 environment comes with many helpful analytics libraries installed<br>\n",
        "It is defined by the kaggle/python Docker image: https://github.com/kaggle/docker-python<br>\n",
        "For example, here's several helpful packages to load"
      ]
    },
    {
      "cell_type": "code",
      "execution_count": 28,
      "metadata": {
        "id": "dh2rzihWMPaQ"
      },
      "outputs": [],
      "source": [
        "import numpy as np # linear algebra\n",
        "import pandas as pd # data processing, CSV file I/O (e.g. pd.read_csv)"
      ]
    },
    {
      "cell_type": "markdown",
      "metadata": {
        "id": "J_szSMu9MPaR"
      },
      "source": [
        "Input data files are available in the read-only \"../input/\" directory<br>\n",
        "For example, running this (by clicking run or pressing Shift+Enter) will list all files under the input directory"
      ]
    },
    {
      "cell_type": "markdown",
      "metadata": {
        "id": "GpMAAvmjMPaR"
      },
      "source": [
        "import os<br>\n",
        "for dirname, _, filenames in os.walk('/kaggle/input'):<br>\n",
        "    for filename in filenames:<br>\n",
        "        print(os.path.join(dirname, filename))"
      ]
    },
    {
      "cell_type": "markdown",
      "metadata": {
        "id": "D5d-wi32MPaR"
      },
      "source": [
        "You can write up to 20GB to the current directory (/kaggle/working/) that gets preserved as output when you create a version using \"Save & Run All\" <br>\n",
        "You can also write temporary files to /kaggle/temp/, but they won't be saved outside of the current session"
      ]
    },
    {
      "cell_type": "code",
      "execution_count": 29,
      "metadata": {
        "id": "bdc1V7AMMPaS"
      },
      "outputs": [],
      "source": [
        "from sklearn.preprocessing import StandardScaler\n",
        "from sklearn.metrics import mean_squared_error\n",
        "from sklearn.model_selection import KFold\n",
        "from sklearn.model_selection import train_test_split\n",
        "from tensorflow import keras\n",
        "from tensorflow.keras import layers"
      ]
    },
    {
      "cell_type": "markdown",
      "metadata": {
        "id": "_jbHnpZAMPaS"
      },
      "source": [
        "train = pd.read_csv('../input/tabular-playground-series-jan-2021/train.csv')<br>\n",
        "test = pd.read_csv('../input/tabular-playground-series-jan-2021/test.csv')"
      ]
    },
    {
      "cell_type": "code",
      "execution_count": 30,
      "metadata": {
        "id": "h3XIKSmnMPaT",
        "outputId": "0a984848-bcec-4680-97c6-d2d136e1d733",
        "colab": {
          "base_uri": "https://localhost:8080/",
          "height": 193
        }
      },
      "outputs": [
        {
          "output_type": "execute_result",
          "data": {
            "text/plain": [
              "   ID_Code  target  Achimill  Achiptar  Acinarve  Agrolat  Agrocapi  Agrocurt  \\\n",
              "0        1       0       0.0       0.0       0.0      0.0       0.0       0.0   \n",
              "1        2       0       0.0       0.0       0.0      0.0       0.0       0.0   \n",
              "2        3       0       0.0       0.0       0.0      0.0       0.0       0.0   \n",
              "\n",
              "   Agrostol  Agrovine  ...  Vicisati  Vicisepi  Violcani  Violhirt  Viollute  \\\n",
              "0       0.0       0.0  ...       0.0       0.0       0.0       0.0       0.0   \n",
              "1       0.0       0.0  ...       0.0       0.0       0.0       0.0       0.0   \n",
              "2       0.0       0.0  ...       0.0       0.0       0.0       0.0       0.0   \n",
              "\n",
              "   Violpalu  Violrivi  Violrupe  Weismicr  Weisspp  \n",
              "0       0.0       0.0       0.0       0.0      0.0  \n",
              "1       0.0       0.0       0.0       0.0      0.0  \n",
              "2       0.0       0.0       0.0       0.0      0.0  \n",
              "\n",
              "[3 rows x 536 columns]"
            ],
            "text/html": [
              "\n",
              "  <div id=\"df-4d3c9572-b6a2-4383-931a-d9d72cf23ded\" class=\"colab-df-container\">\n",
              "    <div>\n",
              "<style scoped>\n",
              "    .dataframe tbody tr th:only-of-type {\n",
              "        vertical-align: middle;\n",
              "    }\n",
              "\n",
              "    .dataframe tbody tr th {\n",
              "        vertical-align: top;\n",
              "    }\n",
              "\n",
              "    .dataframe thead th {\n",
              "        text-align: right;\n",
              "    }\n",
              "</style>\n",
              "<table border=\"1\" class=\"dataframe\">\n",
              "  <thead>\n",
              "    <tr style=\"text-align: right;\">\n",
              "      <th></th>\n",
              "      <th>ID_Code</th>\n",
              "      <th>target</th>\n",
              "      <th>Achimill</th>\n",
              "      <th>Achiptar</th>\n",
              "      <th>Acinarve</th>\n",
              "      <th>Agrolat</th>\n",
              "      <th>Agrocapi</th>\n",
              "      <th>Agrocurt</th>\n",
              "      <th>Agrostol</th>\n",
              "      <th>Agrovine</th>\n",
              "      <th>...</th>\n",
              "      <th>Vicisati</th>\n",
              "      <th>Vicisepi</th>\n",
              "      <th>Violcani</th>\n",
              "      <th>Violhirt</th>\n",
              "      <th>Viollute</th>\n",
              "      <th>Violpalu</th>\n",
              "      <th>Violrivi</th>\n",
              "      <th>Violrupe</th>\n",
              "      <th>Weismicr</th>\n",
              "      <th>Weisspp</th>\n",
              "    </tr>\n",
              "  </thead>\n",
              "  <tbody>\n",
              "    <tr>\n",
              "      <th>0</th>\n",
              "      <td>1</td>\n",
              "      <td>0</td>\n",
              "      <td>0.0</td>\n",
              "      <td>0.0</td>\n",
              "      <td>0.0</td>\n",
              "      <td>0.0</td>\n",
              "      <td>0.0</td>\n",
              "      <td>0.0</td>\n",
              "      <td>0.0</td>\n",
              "      <td>0.0</td>\n",
              "      <td>...</td>\n",
              "      <td>0.0</td>\n",
              "      <td>0.0</td>\n",
              "      <td>0.0</td>\n",
              "      <td>0.0</td>\n",
              "      <td>0.0</td>\n",
              "      <td>0.0</td>\n",
              "      <td>0.0</td>\n",
              "      <td>0.0</td>\n",
              "      <td>0.0</td>\n",
              "      <td>0.0</td>\n",
              "    </tr>\n",
              "    <tr>\n",
              "      <th>1</th>\n",
              "      <td>2</td>\n",
              "      <td>0</td>\n",
              "      <td>0.0</td>\n",
              "      <td>0.0</td>\n",
              "      <td>0.0</td>\n",
              "      <td>0.0</td>\n",
              "      <td>0.0</td>\n",
              "      <td>0.0</td>\n",
              "      <td>0.0</td>\n",
              "      <td>0.0</td>\n",
              "      <td>...</td>\n",
              "      <td>0.0</td>\n",
              "      <td>0.0</td>\n",
              "      <td>0.0</td>\n",
              "      <td>0.0</td>\n",
              "      <td>0.0</td>\n",
              "      <td>0.0</td>\n",
              "      <td>0.0</td>\n",
              "      <td>0.0</td>\n",
              "      <td>0.0</td>\n",
              "      <td>0.0</td>\n",
              "    </tr>\n",
              "    <tr>\n",
              "      <th>2</th>\n",
              "      <td>3</td>\n",
              "      <td>0</td>\n",
              "      <td>0.0</td>\n",
              "      <td>0.0</td>\n",
              "      <td>0.0</td>\n",
              "      <td>0.0</td>\n",
              "      <td>0.0</td>\n",
              "      <td>0.0</td>\n",
              "      <td>0.0</td>\n",
              "      <td>0.0</td>\n",
              "      <td>...</td>\n",
              "      <td>0.0</td>\n",
              "      <td>0.0</td>\n",
              "      <td>0.0</td>\n",
              "      <td>0.0</td>\n",
              "      <td>0.0</td>\n",
              "      <td>0.0</td>\n",
              "      <td>0.0</td>\n",
              "      <td>0.0</td>\n",
              "      <td>0.0</td>\n",
              "      <td>0.0</td>\n",
              "    </tr>\n",
              "  </tbody>\n",
              "</table>\n",
              "<p>3 rows × 536 columns</p>\n",
              "</div>\n",
              "    <div class=\"colab-df-buttons\">\n",
              "\n",
              "  <div class=\"colab-df-container\">\n",
              "    <button class=\"colab-df-convert\" onclick=\"convertToInteractive('df-4d3c9572-b6a2-4383-931a-d9d72cf23ded')\"\n",
              "            title=\"Convert this dataframe to an interactive table.\"\n",
              "            style=\"display:none;\">\n",
              "\n",
              "  <svg xmlns=\"http://www.w3.org/2000/svg\" height=\"24px\" viewBox=\"0 -960 960 960\">\n",
              "    <path d=\"M120-120v-720h720v720H120Zm60-500h600v-160H180v160Zm220 220h160v-160H400v160Zm0 220h160v-160H400v160ZM180-400h160v-160H180v160Zm440 0h160v-160H620v160ZM180-180h160v-160H180v160Zm440 0h160v-160H620v160Z\"/>\n",
              "  </svg>\n",
              "    </button>\n",
              "\n",
              "  <style>\n",
              "    .colab-df-container {\n",
              "      display:flex;\n",
              "      gap: 12px;\n",
              "    }\n",
              "\n",
              "    .colab-df-convert {\n",
              "      background-color: #E8F0FE;\n",
              "      border: none;\n",
              "      border-radius: 50%;\n",
              "      cursor: pointer;\n",
              "      display: none;\n",
              "      fill: #1967D2;\n",
              "      height: 32px;\n",
              "      padding: 0 0 0 0;\n",
              "      width: 32px;\n",
              "    }\n",
              "\n",
              "    .colab-df-convert:hover {\n",
              "      background-color: #E2EBFA;\n",
              "      box-shadow: 0px 1px 2px rgba(60, 64, 67, 0.3), 0px 1px 3px 1px rgba(60, 64, 67, 0.15);\n",
              "      fill: #174EA6;\n",
              "    }\n",
              "\n",
              "    .colab-df-buttons div {\n",
              "      margin-bottom: 4px;\n",
              "    }\n",
              "\n",
              "    [theme=dark] .colab-df-convert {\n",
              "      background-color: #3B4455;\n",
              "      fill: #D2E3FC;\n",
              "    }\n",
              "\n",
              "    [theme=dark] .colab-df-convert:hover {\n",
              "      background-color: #434B5C;\n",
              "      box-shadow: 0px 1px 3px 1px rgba(0, 0, 0, 0.15);\n",
              "      filter: drop-shadow(0px 1px 2px rgba(0, 0, 0, 0.3));\n",
              "      fill: #FFFFFF;\n",
              "    }\n",
              "  </style>\n",
              "\n",
              "    <script>\n",
              "      const buttonEl =\n",
              "        document.querySelector('#df-4d3c9572-b6a2-4383-931a-d9d72cf23ded button.colab-df-convert');\n",
              "      buttonEl.style.display =\n",
              "        google.colab.kernel.accessAllowed ? 'block' : 'none';\n",
              "\n",
              "      async function convertToInteractive(key) {\n",
              "        const element = document.querySelector('#df-4d3c9572-b6a2-4383-931a-d9d72cf23ded');\n",
              "        const dataTable =\n",
              "          await google.colab.kernel.invokeFunction('convertToInteractive',\n",
              "                                                    [key], {});\n",
              "        if (!dataTable) return;\n",
              "\n",
              "        const docLinkHtml = 'Like what you see? Visit the ' +\n",
              "          '<a target=\"_blank\" href=https://colab.research.google.com/notebooks/data_table.ipynb>data table notebook</a>'\n",
              "          + ' to learn more about interactive tables.';\n",
              "        element.innerHTML = '';\n",
              "        dataTable['output_type'] = 'display_data';\n",
              "        await google.colab.output.renderOutput(dataTable, element);\n",
              "        const docLink = document.createElement('div');\n",
              "        docLink.innerHTML = docLinkHtml;\n",
              "        element.appendChild(docLink);\n",
              "      }\n",
              "    </script>\n",
              "  </div>\n",
              "\n",
              "    </div>\n",
              "  </div>\n"
            ]
          },
          "metadata": {},
          "execution_count": 30
        }
      ],
      "source": [
        "dataset_train = pd.read_csv(\"data/pseudos2.csv\")\n",
        "# dataset_test = pd.read_csv(\"santander/test.csv\")\n",
        "dataset_train.head(3)"
      ]
    },
    {
      "cell_type": "markdown",
      "metadata": {
        "id": "-l2ifD2sMPaT"
      },
      "source": [
        "numerical_cols = [f'cont{i}' for i in range(1, 15)]"
      ]
    },
    {
      "cell_type": "code",
      "execution_count": 31,
      "metadata": {
        "id": "XQCXfWhMMPaT"
      },
      "outputs": [],
      "source": [
        "target_col = 'target'"
      ]
    },
    {
      "cell_type": "markdown",
      "metadata": {
        "id": "JjajjtE8MPaU"
      },
      "source": [
        "for c in numerical_cols:<br>\n",
        "    prep = StandardScaler()<br>\n",
        "    train[c] = prep.fit_transform(train[[c]])<br>\n",
        "    test[c] = prep.transform(test[[c]])"
      ]
    },
    {
      "cell_type": "code",
      "execution_count": 37,
      "metadata": {
        "id": "xUh5-LWRMPaU"
      },
      "outputs": [],
      "source": [
        "X_train = dataset_train.drop(['ID_Code', 'target'], axis=1)\n",
        "y_train = dataset_train['target']\n",
        "#X_test = dataset_test.drop('ID_code', axis=1)"
      ]
    },
    {
      "cell_type": "code",
      "execution_count": null,
      "metadata": {
        "id": "enf4NmgUMPaU"
      },
      "outputs": [],
      "source": [
        "X_train.head(2)\n",
        "#X_test.head(2)"
      ]
    },
    {
      "cell_type": "markdown",
      "metadata": {
        "id": "TMrOwPFiMPaU"
      },
      "source": [
        "Just for now, use X_test as validation. Sort out later"
      ]
    },
    {
      "cell_type": "markdown",
      "metadata": {
        "id": "fV0_E1IjMPaV"
      },
      "source": [
        "cv = KFold(n_splits=5, shuffle=True, random_state=7)<br>\n",
        "<br>\n",
        "y_preds = []<br>\n",
        "models = []<br>\n",
        "oof_train = np.zeros((len(X_train),))<br>\n",
        "<br>\n",
        "for fold_id, (train_index, valid_index) in enumerate(cv.split(X_train, y_train)):<br>\n",
        "    X_tr = X_train.loc[train_index, :]<br>\n",
        "    X_val = X_train.loc[valid_index, :]<br>\n",
        "    y_tr = y_train.loc[train_index]<br>\n",
        "    y_val = y_train.loc[valid_index]"
      ]
    },
    {
      "cell_type": "code",
      "execution_count": 38,
      "metadata": {
        "id": "mZw0MycLMPaV"
      },
      "outputs": [],
      "source": [
        "model = keras.Sequential([\n",
        "#   layers.BatchNormalization(),\n",
        "#   layers.Dropout(0.1),\n",
        "    layers.Dense(4096, activation='relu'),\n",
        "    layers.Reshape((256, 16)),\n",
        "#   layers.BatchNormalization(),\n",
        "#   layers.Dropout(0.1),\n",
        "    layers.Conv1D(filters=16, kernel_size=5, strides=1, activation='relu'),\n",
        "    layers.MaxPooling1D(pool_size=2),\n",
        "    layers.Flatten(),\n",
        "    layers.Dense(16, activation='relu'),\n",
        "    layers.Dense(1, activation='linear'),\n",
        "])"
      ]
    },
    {
      "cell_type": "code",
      "source": [
        "model.compile(\n",
        "  optimizer='adam',\n",
        "  loss='mse',\n",
        "  metrics=[keras.metrics.RootMeanSquaredError()]\n",
        "  )\n",
        "\n",
        "early_stopping = keras.callbacks.EarlyStopping(\n",
        "    patience=10,\n",
        "    min_delta=0.001,\n",
        "    restore_best_weights=True,\n",
        ")\n",
        "\n",
        "model.fit(\n",
        "    X_train, y_train,\n",
        "    #validation_data=(X_val, y_val),\n",
        "    batch_size=32,\n",
        "    epochs=5,\n",
        "    validation_split = 0.2,\n",
        "    callbacks=[early_stopping],\n",
        ")\n"
      ],
      "metadata": {
        "id": "joVxeFjdk72c",
        "outputId": "b133517f-036e-4744-e15a-489b1541e793",
        "colab": {
          "base_uri": "https://localhost:8080/"
        }
      },
      "execution_count": 39,
      "outputs": [
        {
          "output_type": "stream",
          "name": "stdout",
          "text": [
            "Epoch 1/5\n",
            "50/50 [==============================] - 4s 52ms/step - loss: 0.5025 - root_mean_squared_error: 0.7089 - val_loss: 0.1906 - val_root_mean_squared_error: 0.4366\n",
            "Epoch 2/5\n",
            "50/50 [==============================] - 2s 37ms/step - loss: 0.0648 - root_mean_squared_error: 0.2546 - val_loss: 0.1280 - val_root_mean_squared_error: 0.3577\n",
            "Epoch 3/5\n",
            "50/50 [==============================] - 2s 39ms/step - loss: 0.0288 - root_mean_squared_error: 0.1696 - val_loss: 0.0842 - val_root_mean_squared_error: 0.2902\n",
            "Epoch 4/5\n",
            "50/50 [==============================] - 2s 38ms/step - loss: 0.0189 - root_mean_squared_error: 0.1373 - val_loss: 0.0861 - val_root_mean_squared_error: 0.2934\n",
            "Epoch 5/5\n",
            "50/50 [==============================] - 2s 44ms/step - loss: 0.0128 - root_mean_squared_error: 0.1133 - val_loss: 0.0809 - val_root_mean_squared_error: 0.2844\n"
          ]
        },
        {
          "output_type": "execute_result",
          "data": {
            "text/plain": [
              "<keras.callbacks.History at 0x797b69e35ae0>"
            ]
          },
          "metadata": {},
          "execution_count": 39
        }
      ]
    },
    {
      "cell_type": "code",
      "source": [
        "model.summary()"
      ],
      "metadata": {
        "id": "ac5m5mnTlVgq",
        "outputId": "210dad56-abc3-4042-a80d-448ad71587b1",
        "colab": {
          "base_uri": "https://localhost:8080/"
        }
      },
      "execution_count": 40,
      "outputs": [
        {
          "output_type": "stream",
          "name": "stdout",
          "text": [
            "Model: \"sequential\"\n",
            "_________________________________________________________________\n",
            " Layer (type)                Output Shape              Param #   \n",
            "=================================================================\n",
            " dense (Dense)               (None, 4096)              2191360   \n",
            "                                                                 \n",
            " reshape (Reshape)           (None, 256, 16)           0         \n",
            "                                                                 \n",
            " conv1d (Conv1D)             (None, 252, 16)           1296      \n",
            "                                                                 \n",
            " max_pooling1d (MaxPooling1D  (None, 126, 16)          0         \n",
            " )                                                               \n",
            "                                                                 \n",
            " flatten (Flatten)           (None, 2016)              0         \n",
            "                                                                 \n",
            " dense_1 (Dense)             (None, 16)                32272     \n",
            "                                                                 \n",
            " dense_2 (Dense)             (None, 1)                 17        \n",
            "                                                                 \n",
            "=================================================================\n",
            "Total params: 2,224,945\n",
            "Trainable params: 2,224,945\n",
            "Non-trainable params: 0\n",
            "_________________________________________________________________\n"
          ]
        }
      ]
    },
    {
      "cell_type": "markdown",
      "source": [
        "# Taken from keras implementation\n",
        "See https://www.keep-current.dev/convolution-networks-on-tabular-data/"
      ],
      "metadata": {
        "id": "dl9EeiGGm_Uw"
      }
    },
    {
      "cell_type": "code",
      "source": [
        "def create_cnn( num_columns, num_labels, hidden_units, dropout_rates, label_smoothing, learning_rate ):\n",
        "    inp = tf.keras.Input(shape=(num_columns,))\n",
        "    x = tf.keras.layers.BatchNormalization()(inp)\n",
        "    x = tf.keras.layers.Dropout(dropout_rates[0])(x)\n",
        "    #x = tf.keras.layers.WeightNormalization(Dense(4096))(x)\n",
        "    x = tf.keras.layers.Reshape((256, 16))(x)\n",
        "    x = BatchNormalization()(x)\n",
        "    x = Dropout(0.1)(x)\n",
        "    #x = WeightNormalization(Conv1D(filters = 16, kernel_size = 5, activation = swish, use_bias = False, padding = 'SAME'))(x)\n",
        "    x = AveragePooling1D(pool_size = 2)(x)\n",
        "    xs = x\n",
        "    x = BatchNormalization()(x)\n",
        "    x = Dropout(0.1)(x)\n",
        "    #x = WeightNormalization(Conv1D(filters = 16, kernel_size = 3, activation = swish, use_bias = True, padding = 'SAME'))(x)\n",
        "    x = BatchNormalization()(x)\n",
        "    x = Dropout(0.1)(x)\n",
        "    #x = WeightNormalization(Conv1D(filters = 16, kernel_size = 3, activation = swish, use_bias = True, padding = 'SAME'))(x)\n",
        "    x = Multiply()([x, xs])\n",
        "    x = MaxPool1D(pool_size = 4, strides = 2)(x)\n",
        "    x = Flatten()(x)\n",
        "    x = BatchNormalization()(x)\n",
        "    x = Activation(swish)(x)\n",
        "    x = Dense(num_labels)(x)\n",
        "    out = Activation('sigmoid')(x)\n",
        "    model = Model(inputs=inp, outputs=out)\n",
        "    model.summary()\n",
        "    return model"
      ],
      "metadata": {
        "id": "_1rjbr0YnJxZ"
      },
      "execution_count": 65,
      "outputs": []
    },
    {
      "cell_type": "markdown",
      "source": [
        "No real idea how you use the create_cnn class"
      ],
      "metadata": {
        "id": "Ec4UMnzRntXy"
      }
    },
    {
      "cell_type": "code",
      "source": [
        "import tensorflow as tf\n",
        "#num_columns = 200\n",
        "#inp = tf.keras.Input(shape=(num_columns,))\n",
        "model = create_cnn(num_columns=10, num_labels=2, hidden_units=[64, 32], dropout_rates=[0.2, 0.2], label_smoothing=0.1, learning_rate=0.001)\n",
        "\n",
        "#model.compile(optimizer=tf.keras.optimizers.Adam(learning_rate=learning_rate), loss=tf.keras.losses.BinaryCrossentropy(label_smoothing=label_smoothing), metrics=[tf.keras.metrics.AUC()])\n",
        "\n",
        "#history = model.fit(train_dataset, epochs=10, validation_data=val_dataset)"
      ],
      "metadata": {
        "id": "fUd9PCDtnyoB",
        "outputId": "3321ca95-6fff-4af3-d2ff-299b2a04b822",
        "colab": {
          "base_uri": "https://localhost:8080/",
          "height": 495
        }
      },
      "execution_count": 67,
      "outputs": [
        {
          "output_type": "error",
          "ename": "ValueError",
          "evalue": "ignored",
          "traceback": [
            "\u001b[0;31m---------------------------------------------------------------------------\u001b[0m",
            "\u001b[0;31mValueError\u001b[0m                                Traceback (most recent call last)",
            "\u001b[0;32m<ipython-input-67-a5ec3b07bf27>\u001b[0m in \u001b[0;36m<cell line: 4>\u001b[0;34m()\u001b[0m\n\u001b[1;32m      2\u001b[0m \u001b[0;31m#num_columns = 200\u001b[0m\u001b[0;34m\u001b[0m\u001b[0;34m\u001b[0m\u001b[0m\n\u001b[1;32m      3\u001b[0m \u001b[0;31m#inp = tf.keras.Input(shape=(num_columns,))\u001b[0m\u001b[0;34m\u001b[0m\u001b[0;34m\u001b[0m\u001b[0m\n\u001b[0;32m----> 4\u001b[0;31m \u001b[0mmodel\u001b[0m \u001b[0;34m=\u001b[0m \u001b[0mcreate_cnn\u001b[0m\u001b[0;34m(\u001b[0m\u001b[0mnum_columns\u001b[0m\u001b[0;34m=\u001b[0m\u001b[0;36m10\u001b[0m\u001b[0;34m,\u001b[0m \u001b[0mnum_labels\u001b[0m\u001b[0;34m=\u001b[0m\u001b[0;36m2\u001b[0m\u001b[0;34m,\u001b[0m \u001b[0mhidden_units\u001b[0m\u001b[0;34m=\u001b[0m\u001b[0;34m[\u001b[0m\u001b[0;36m64\u001b[0m\u001b[0;34m,\u001b[0m \u001b[0;36m32\u001b[0m\u001b[0;34m]\u001b[0m\u001b[0;34m,\u001b[0m \u001b[0mdropout_rates\u001b[0m\u001b[0;34m=\u001b[0m\u001b[0;34m[\u001b[0m\u001b[0;36m0.2\u001b[0m\u001b[0;34m,\u001b[0m \u001b[0;36m0.2\u001b[0m\u001b[0;34m]\u001b[0m\u001b[0;34m,\u001b[0m \u001b[0mlabel_smoothing\u001b[0m\u001b[0;34m=\u001b[0m\u001b[0;36m0.1\u001b[0m\u001b[0;34m,\u001b[0m \u001b[0mlearning_rate\u001b[0m\u001b[0;34m=\u001b[0m\u001b[0;36m0.001\u001b[0m\u001b[0;34m)\u001b[0m\u001b[0;34m\u001b[0m\u001b[0;34m\u001b[0m\u001b[0m\n\u001b[0m\u001b[1;32m      5\u001b[0m \u001b[0;34m\u001b[0m\u001b[0m\n\u001b[1;32m      6\u001b[0m \u001b[0;31m#model.compile(optimizer=tf.keras.optimizers.Adam(learning_rate=learning_rate), loss=tf.keras.losses.BinaryCrossentropy(label_smoothing=label_smoothing), metrics=[tf.keras.metrics.AUC()])\u001b[0m\u001b[0;34m\u001b[0m\u001b[0;34m\u001b[0m\u001b[0m\n",
            "\u001b[0;32m<ipython-input-65-ff688cb3cd04>\u001b[0m in \u001b[0;36mcreate_cnn\u001b[0;34m(num_columns, num_labels, hidden_units, dropout_rates, label_smoothing, learning_rate)\u001b[0m\n\u001b[1;32m      4\u001b[0m     \u001b[0mx\u001b[0m \u001b[0;34m=\u001b[0m \u001b[0mtf\u001b[0m\u001b[0;34m.\u001b[0m\u001b[0mkeras\u001b[0m\u001b[0;34m.\u001b[0m\u001b[0mlayers\u001b[0m\u001b[0;34m.\u001b[0m\u001b[0mDropout\u001b[0m\u001b[0;34m(\u001b[0m\u001b[0mdropout_rates\u001b[0m\u001b[0;34m[\u001b[0m\u001b[0;36m0\u001b[0m\u001b[0;34m]\u001b[0m\u001b[0;34m)\u001b[0m\u001b[0;34m(\u001b[0m\u001b[0mx\u001b[0m\u001b[0;34m)\u001b[0m\u001b[0;34m\u001b[0m\u001b[0;34m\u001b[0m\u001b[0m\n\u001b[1;32m      5\u001b[0m     \u001b[0;31m#x = tf.keras.layers.WeightNormalization(Dense(4096))(x)\u001b[0m\u001b[0;34m\u001b[0m\u001b[0;34m\u001b[0m\u001b[0m\n\u001b[0;32m----> 6\u001b[0;31m     \u001b[0mx\u001b[0m \u001b[0;34m=\u001b[0m \u001b[0mtf\u001b[0m\u001b[0;34m.\u001b[0m\u001b[0mkeras\u001b[0m\u001b[0;34m.\u001b[0m\u001b[0mlayers\u001b[0m\u001b[0;34m.\u001b[0m\u001b[0mReshape\u001b[0m\u001b[0;34m(\u001b[0m\u001b[0;34m(\u001b[0m\u001b[0;36m256\u001b[0m\u001b[0;34m,\u001b[0m \u001b[0;36m16\u001b[0m\u001b[0;34m)\u001b[0m\u001b[0;34m)\u001b[0m\u001b[0;34m(\u001b[0m\u001b[0mx\u001b[0m\u001b[0;34m)\u001b[0m\u001b[0;34m\u001b[0m\u001b[0;34m\u001b[0m\u001b[0m\n\u001b[0m\u001b[1;32m      7\u001b[0m     \u001b[0mx\u001b[0m \u001b[0;34m=\u001b[0m \u001b[0mBatchNormalization\u001b[0m\u001b[0;34m(\u001b[0m\u001b[0;34m)\u001b[0m\u001b[0;34m(\u001b[0m\u001b[0mx\u001b[0m\u001b[0;34m)\u001b[0m\u001b[0;34m\u001b[0m\u001b[0;34m\u001b[0m\u001b[0m\n\u001b[1;32m      8\u001b[0m     \u001b[0mx\u001b[0m \u001b[0;34m=\u001b[0m \u001b[0mDropout\u001b[0m\u001b[0;34m(\u001b[0m\u001b[0;36m0.1\u001b[0m\u001b[0;34m)\u001b[0m\u001b[0;34m(\u001b[0m\u001b[0mx\u001b[0m\u001b[0;34m)\u001b[0m\u001b[0;34m\u001b[0m\u001b[0;34m\u001b[0m\u001b[0m\n",
            "\u001b[0;32m/usr/local/lib/python3.10/dist-packages/keras/utils/traceback_utils.py\u001b[0m in \u001b[0;36merror_handler\u001b[0;34m(*args, **kwargs)\u001b[0m\n\u001b[1;32m     68\u001b[0m             \u001b[0;31m# To get the full stack trace, call:\u001b[0m\u001b[0;34m\u001b[0m\u001b[0;34m\u001b[0m\u001b[0m\n\u001b[1;32m     69\u001b[0m             \u001b[0;31m# `tf.debugging.disable_traceback_filtering()`\u001b[0m\u001b[0;34m\u001b[0m\u001b[0;34m\u001b[0m\u001b[0m\n\u001b[0;32m---> 70\u001b[0;31m             \u001b[0;32mraise\u001b[0m \u001b[0me\u001b[0m\u001b[0;34m.\u001b[0m\u001b[0mwith_traceback\u001b[0m\u001b[0;34m(\u001b[0m\u001b[0mfiltered_tb\u001b[0m\u001b[0;34m)\u001b[0m \u001b[0;32mfrom\u001b[0m \u001b[0;32mNone\u001b[0m\u001b[0;34m\u001b[0m\u001b[0;34m\u001b[0m\u001b[0m\n\u001b[0m\u001b[1;32m     71\u001b[0m         \u001b[0;32mfinally\u001b[0m\u001b[0;34m:\u001b[0m\u001b[0;34m\u001b[0m\u001b[0;34m\u001b[0m\u001b[0m\n\u001b[1;32m     72\u001b[0m             \u001b[0;32mdel\u001b[0m \u001b[0mfiltered_tb\u001b[0m\u001b[0;34m\u001b[0m\u001b[0;34m\u001b[0m\u001b[0m\n",
            "\u001b[0;32m/usr/local/lib/python3.10/dist-packages/keras/layers/reshaping/reshape.py\u001b[0m in \u001b[0;36m_fix_unknown_dimension\u001b[0;34m(self, input_shape, output_shape)\u001b[0m\n\u001b[1;32m    116\u001b[0m             \u001b[0moutput_shape\u001b[0m\u001b[0;34m[\u001b[0m\u001b[0munknown\u001b[0m\u001b[0;34m]\u001b[0m \u001b[0;34m=\u001b[0m \u001b[0moriginal\u001b[0m \u001b[0;34m//\u001b[0m \u001b[0mknown\u001b[0m\u001b[0;34m\u001b[0m\u001b[0;34m\u001b[0m\u001b[0m\n\u001b[1;32m    117\u001b[0m         \u001b[0;32melif\u001b[0m \u001b[0moriginal\u001b[0m \u001b[0;34m!=\u001b[0m \u001b[0mknown\u001b[0m\u001b[0;34m:\u001b[0m\u001b[0;34m\u001b[0m\u001b[0;34m\u001b[0m\u001b[0m\n\u001b[0;32m--> 118\u001b[0;31m             \u001b[0;32mraise\u001b[0m \u001b[0mValueError\u001b[0m\u001b[0;34m(\u001b[0m\u001b[0mmsg\u001b[0m\u001b[0;34m)\u001b[0m\u001b[0;34m\u001b[0m\u001b[0;34m\u001b[0m\u001b[0m\n\u001b[0m\u001b[1;32m    119\u001b[0m         \u001b[0;32mreturn\u001b[0m \u001b[0moutput_shape\u001b[0m\u001b[0;34m\u001b[0m\u001b[0;34m\u001b[0m\u001b[0m\n\u001b[1;32m    120\u001b[0m \u001b[0;34m\u001b[0m\u001b[0m\n",
            "\u001b[0;31mValueError\u001b[0m: Exception encountered when calling layer \"reshape_2\" (type Reshape).\n\ntotal size of new array must be unchanged, input_shape = [10], output_shape = [256, 16]\n\nCall arguments received by layer \"reshape_2\" (type Reshape):\n  • inputs=tf.Tensor(shape=(None, 10), dtype=float32)"
          ]
        }
      ]
    }
  ],
  "metadata": {
    "kernelspec": {
      "display_name": "Python 3",
      "language": "python",
      "name": "python3"
    },
    "language_info": {
      "codemirror_mode": {
        "name": "ipython",
        "version": 3
      },
      "file_extension": ".py",
      "mimetype": "text/x-python",
      "name": "python",
      "nbconvert_exporter": "python",
      "pygments_lexer": "ipython3",
      "version": "3.6.4"
    },
    "colab": {
      "provenance": []
    }
  },
  "nbformat": 4,
  "nbformat_minor": 0
}